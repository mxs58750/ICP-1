{
  "nbformat": 4,
  "nbformat_minor": 0,
  "metadata": {
    "colab": {
      "provenance": []
    },
    "kernelspec": {
      "name": "python3",
      "display_name": "Python 3"
    },
    "language_info": {
      "name": "python"
    }
  },
  "cells": [
    {
      "cell_type": "code",
      "execution_count": 15,
      "metadata": {
        "colab": {
          "base_uri": "https://localhost:8080/"
        },
        "collapsed": true,
        "id": "6VdiLpscv6vB",
        "outputId": "d42045fd-49f5-4c7b-b695-efa60c7b2dc9"
      },
      "outputs": [
        {
          "output_type": "stream",
          "name": "stdout",
          "text": [
            "noht\n"
          ]
        }
      ],
      "source": []
    },
    {
      "cell_type": "markdown",
      "source": [
        "/*Input the string “Python” as a list of characters from console, delete at least 2 characters, reverse the\n",
        "resultant string and print it.*/"
      ],
      "metadata": {
        "id": "dGuLVzoGx1ld"
      }
    },
    {
      "cell_type": "code",
      "source": [],
      "metadata": {
        "id": "bun1q-H9Jm1k"
      },
      "execution_count": null,
      "outputs": []
    },
    {
      "cell_type": "code",
      "source": [
        "x = list(\"Python\")\n",
        "del x[:2]\n",
        "x.reverse()\n",
        "reversed_string = ''.join(x)\n",
        "print(reversed_string)\n"
      ],
      "metadata": {
        "colab": {
          "base_uri": "https://localhost:8080/"
        },
        "id": "yxSin78Bx6sO",
        "outputId": "d3e89603-363a-4637-e2be-228ba8f3775d"
      },
      "execution_count": 40,
      "outputs": [
        {
          "output_type": "stream",
          "name": "stdout",
          "text": [
            "noht\n"
          ]
        }
      ]
    },
    {
      "cell_type": "markdown",
      "source": [
        "Write a program that accepts a sentence and replace each occurrence of ‘python’ with ‘pythons’."
      ],
      "metadata": {
        "id": "2hvx1sJsyCjW"
      }
    },
    {
      "cell_type": "code",
      "source": [
        "x=\"i love learning python\"\n",
        "y=x.replace('python','pythons')\n",
        "print(y)\n",
        "\n"
      ],
      "metadata": {
        "colab": {
          "base_uri": "https://localhost:8080/"
        },
        "id": "pMHOC4t6ySO7",
        "outputId": "bf82b7d9-9da9-414c-88b9-fbab863be668"
      },
      "execution_count": 37,
      "outputs": [
        {
          "output_type": "stream",
          "name": "stdout",
          "text": [
            "i love learning pythons\n"
          ]
        }
      ]
    },
    {
      "cell_type": "markdown",
      "source": [
        "Take two numbers from user and perform at least 4 arithmetic operations on them."
      ],
      "metadata": {
        "id": "p98ArHvSJlnc"
      }
    },
    {
      "cell_type": "code",
      "source": [
        "x=float(input('Enter the input 1 '))\n",
        "y=float(input('Enter the input 2 '))\n",
        "add=x+y\n",
        "subt=x - y\n",
        "mul=x*y\n",
        "div=x/y\n",
        "exp=x**y\n",
        "mod=x%y\n",
        "z= x//y\n",
        "\n",
        "print(add)\n",
        "print(subt)\n",
        "print(mul)\n",
        "print(div)\n",
        "print(exp)\n",
        "print(mod)\n",
        "print(z)"
      ],
      "metadata": {
        "colab": {
          "base_uri": "https://localhost:8080/"
        },
        "id": "0KfJoF4EJyUp",
        "outputId": "303ac9ad-085e-4677-8958-9d3d9e1d2914"
      },
      "execution_count": 7,
      "outputs": [
        {
          "output_type": "stream",
          "name": "stdout",
          "text": [
            "Enter the input 1 20\n",
            "Enter the input 2 5\n",
            "25.0\n",
            "15.0\n",
            "100.0\n",
            "4.0\n",
            "3200000.0\n",
            "0.0\n",
            "4.0\n"
          ]
        }
      ]
    },
    {
      "cell_type": "markdown",
      "source": [
        "Use the if statement conditions to write a program to print the letter grade based on an input classscore. Use the\n",
        "grading scheme we are using in this class."
      ],
      "metadata": {
        "id": "WfU0RiFP0I-g"
      }
    },
    {
      "cell_type": "code",
      "source": [
        "score=float(input(\"Enter the Score  \"))\n",
        "if score >= 90:\n",
        "   grade='A'\n",
        "elif score >= 80:\n",
        "  grade = 'B'\n",
        "elif score >= 70:\n",
        "  grade = 'C'\n",
        "print(grade)"
      ],
      "metadata": {
        "colab": {
          "base_uri": "https://localhost:8080/"
        },
        "id": "0n2ZjFRk0P1w",
        "outputId": "b5e4f292-3a92-4cf5-af78-ba1e1de0b43e"
      },
      "execution_count": 38,
      "outputs": [
        {
          "output_type": "stream",
          "name": "stdout",
          "text": [
            "Enter the Score  80\n",
            "B\n"
          ]
        }
      ]
    },
    {
      "cell_type": "code",
      "source": [],
      "metadata": {
        "id": "i6bHI6smzK7Z"
      },
      "execution_count": null,
      "outputs": []
    }
  ]
}